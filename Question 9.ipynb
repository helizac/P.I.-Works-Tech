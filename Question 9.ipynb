{
 "cells": [
  {
   "cell_type": "code",
   "execution_count": 10,
   "metadata": {},
   "outputs": [],
   "source": [
    "import pandas as pd\n",
    "import re"
   ]
  },
  {
   "cell_type": "code",
   "execution_count": 11,
   "metadata": {},
   "outputs": [],
   "source": [
    "df = pd.read_csv(\"example_database.csv\")"
   ]
  },
  {
   "cell_type": "code",
   "execution_count": 12,
   "metadata": {},
   "outputs": [],
   "source": [
    "def extract_url(access_link):\n",
    "    pattern = r\"<url>https?://([a-z0-9_.]+)</url>\"\n",
    "    match = re.search(pattern, access_link, re.IGNORECASE)\n",
    "    if match:\n",
    "        return match.group(1)\n",
    "    else:\n",
    "        return None"
   ]
  },
  {
   "cell_type": "code",
   "execution_count": 13,
   "metadata": {},
   "outputs": [
    {
     "data": {
      "text/html": [
       "<div>\n",
       "<style scoped>\n",
       "    .dataframe tbody tr th:only-of-type {\n",
       "        vertical-align: middle;\n",
       "    }\n",
       "\n",
       "    .dataframe tbody tr th {\n",
       "        vertical-align: top;\n",
       "    }\n",
       "\n",
       "    .dataframe thead th {\n",
       "        text-align: right;\n",
       "    }\n",
       "</style>\n",
       "<table border=\"1\" class=\"dataframe\">\n",
       "  <thead>\n",
       "    <tr style=\"text-align: right;\">\n",
       "      <th></th>\n",
       "      <th>Device_Type</th>\n",
       "      <th>Stats_Access_Link</th>\n",
       "      <th>Pure_URL</th>\n",
       "    </tr>\n",
       "  </thead>\n",
       "  <tbody>\n",
       "    <tr>\n",
       "      <th>0</th>\n",
       "      <td>AX0145</td>\n",
       "      <td>&lt;url&gt;https://xcd32112.smart_meter.com&lt;/url&gt;</td>\n",
       "      <td>xcd32112.smart_meter.com</td>\n",
       "    </tr>\n",
       "    <tr>\n",
       "      <th>1</th>\n",
       "      <td>TRU151</td>\n",
       "      <td>&lt;url&gt;http://tXh67.dia_meter.com&lt;/url&gt;</td>\n",
       "      <td>tXh67.dia_meter.com</td>\n",
       "    </tr>\n",
       "    <tr>\n",
       "      <th>2</th>\n",
       "      <td>ZOD231</td>\n",
       "      <td>&lt;url&gt;http://yT5495.smart_meter.com&lt;/url&gt;</td>\n",
       "      <td>yT5495.smart_meter.com</td>\n",
       "    </tr>\n",
       "    <tr>\n",
       "      <th>3</th>\n",
       "      <td>YRT326</td>\n",
       "      <td>&lt;url&gt;https://ret323_TRu.crown.com&lt;/url&gt;</td>\n",
       "      <td>ret323_TRu.crown.com</td>\n",
       "    </tr>\n",
       "    <tr>\n",
       "      <th>4</th>\n",
       "      <td>LWR245</td>\n",
       "      <td>&lt;url&gt;https://Iuwr3243.celcius.com&lt;/url&gt;</td>\n",
       "      <td>Iuwr3243.celcius.com</td>\n",
       "    </tr>\n",
       "  </tbody>\n",
       "</table>\n",
       "</div>"
      ],
      "text/plain": [
       "  Device_Type                            Stats_Access_Link  \\\n",
       "0      AX0145  <url>https://xcd32112.smart_meter.com</url>   \n",
       "1      TRU151        <url>http://tXh67.dia_meter.com</url>   \n",
       "2      ZOD231     <url>http://yT5495.smart_meter.com</url>   \n",
       "3      YRT326      <url>https://ret323_TRu.crown.com</url>   \n",
       "4      LWR245      <url>https://Iuwr3243.celcius.com</url>   \n",
       "\n",
       "                   Pure_URL  \n",
       "0  xcd32112.smart_meter.com  \n",
       "1       tXh67.dia_meter.com  \n",
       "2    yT5495.smart_meter.com  \n",
       "3      ret323_TRu.crown.com  \n",
       "4      Iuwr3243.celcius.com  "
      ]
     },
     "execution_count": 13,
     "metadata": {},
     "output_type": "execute_result"
    }
   ],
   "source": [
    "df[\"Pure_URL\"] = df[\"Stats_Access_Link\"].apply(extract_url)\n",
    "\n",
    "df"
   ]
  }
 ],
 "metadata": {
  "kernelspec": {
   "display_name": "Python 3",
   "language": "python",
   "name": "python3"
  },
  "language_info": {
   "codemirror_mode": {
    "name": "ipython",
    "version": 3
   },
   "file_extension": ".py",
   "mimetype": "text/x-python",
   "name": "python",
   "nbconvert_exporter": "python",
   "pygments_lexer": "ipython3",
   "version": "3.10.9"
  }
 },
 "nbformat": 4,
 "nbformat_minor": 2
}
